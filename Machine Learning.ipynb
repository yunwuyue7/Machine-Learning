{
 "cells": [
  {
   "cell_type": "markdown",
   "id": "ad586a2e",
   "metadata": {},
   "source": [
    "## 最小二乘法"
   ]
  },
  {
   "cell_type": "code",
   "execution_count": null,
   "id": "b2435a84",
   "metadata": {},
   "outputs": [],
   "source": [
    "import numpy as np"
   ]
  },
  {
   "cell_type": "code",
   "execution_count": null,
   "id": "c440793e",
   "metadata": {},
   "outputs": [],
   "source": [
    "X = np.array([[1,1],[2,1]])\n",
    "y = np.array([2,3]).reshape((2,1))\n",
    "np.linalg.inv(X.transpose()@X)@X.transpose()@y"
   ]
  },
  {
   "cell_type": "markdown",
   "id": "48550f85",
   "metadata": {},
   "source": [
    "## 异或问题-感知机"
   ]
  },
  {
   "cell_type": "code",
   "execution_count": 2,
   "id": "b204772f",
   "metadata": {},
   "outputs": [],
   "source": [
    "import numpy as np"
   ]
  },
  {
   "cell_type": "code",
   "execution_count": 11,
   "id": "8ee0f212",
   "metadata": {},
   "outputs": [
    {
     "name": "stdout",
     "output_type": "stream",
     "text": [
      "xor(0,0)=0\n",
      "xor(0,1)=1\n",
      "xor(1,0)=1\n",
      "xor(1,1)=0\n"
     ]
    }
   ],
   "source": [
    "def step(x):\n",
    "    return (np.sign(x) + 1)//2\n",
    "\n",
    "def f1(x,y):\n",
    "    return step(x + y - 0.5)\n",
    "\n",
    "def f2(x,y):\n",
    "    return step(x + y - 1.5)\n",
    "\n",
    "def xor(x,y):\n",
    "    return step(f1(x,y) - f2(x,y))\n",
    "\n",
    "x = np.array([0,0,1,1])\n",
    "y = np.array([0,1,0,1])\n",
    "z = xor(x,y)\n",
    "\n",
    "for i in range(len(x)):\n",
    "    print(\"xor(%d,%d)=%d\" %(x[i],y[i],z[i]))"
   ]
  },
  {
   "cell_type": "markdown",
   "id": "a0a02c49",
   "metadata": {},
   "source": [
    "深层网络比浅层网络有更强的表达能力"
   ]
  },
  {
   "cell_type": "code",
   "execution_count": 25,
   "id": "7404fac1",
   "metadata": {},
   "outputs": [
    {
     "name": "stdout",
     "output_type": "stream",
     "text": [
      "xnor (0,0)=1\n",
      "xnor (0,1)=0\n",
      "xnor (1,0)=0\n",
      "xnor (1,1)=1\n"
     ]
    }
   ],
   "source": [
    "def step(x):\n",
    "    return (np.sign(x) + 1)//2\n",
    "\n",
    "def f1(x,y):\n",
    "    return step(x - y - 0.5)\n",
    "\n",
    "def f2(x,y):\n",
    "    return step(x - y + 0.5)\n",
    "\n",
    "def xor(x,y):\n",
    "    return step( f2(x,y) - f1(x,y) )\n",
    "\n",
    "x = np.array([0,0,1,1])\n",
    "y = np.array([0,1,0,1])\n",
    "z = xor(x,y)\n",
    "\n",
    "for i in range(len(x)):\n",
    "    print(\"xnor (%d,%d)=%d\" %(x[i],y[i],z[i]))"
   ]
  },
  {
   "cell_type": "code",
   "execution_count": 1,
   "id": "b2c34740",
   "metadata": {},
   "outputs": [],
   "source": [
    "from collections import defaultdict\n",
    "import numpy as np\n",
    "\n",
    "class Variable:\n",
    "    def __init__(self, value, local_gradients=[],name=''):\n",
    "        self.value = value\n",
    "        self.local_gradients = local_gradients\n",
    "        self.name=name\n",
    "\n",
    "    def __add__(self, other):\n",
    "        return add(self, other)\n",
    "\n",
    "    def __mul__(self, other):\n",
    "        return mul(self, other)\n",
    "\n",
    "    def __sub__(self, other):\n",
    "        return add(self, neg(other))\n",
    "\n",
    "    def __neg__(self):\n",
    "        return neg(self)\n",
    "\n",
    "    def __truediv__(self, other):\n",
    "        return mul(self, inv(other))\n",
    "\n",
    "def add(a, b):\n",
    "    value = a.value + b.value\n",
    "    local_gradients = ((a, 1), (b, 1))\n",
    "    return Variable(value, local_gradients)\n",
    "\n",
    "def mul(a, b):\n",
    "    value = a.value * b.value\n",
    "    local_gradients = ((a, b.value), (b, a.value))\n",
    "    return Variable(value, local_gradients)\n",
    "\n",
    "def neg(a):\n",
    "    value = -1 * a.value\n",
    "    local_gradients = ((a, -1),)\n",
    "    return Variable(value, local_gradients)\n",
    "\n",
    "def inv(a):\n",
    "    value = 1. / a.value\n",
    "    local_gradients = ((a, -1 / a.value ** 2),)\n",
    "    return Variable(value, local_gradients)\n",
    "\n",
    "def exp(a):\n",
    "    value = np.exp(a.value)\n",
    "    local_gradients = ((a, value),)\n",
    "    return Variable(value, local_gradients)\n",
    "\n",
    "def get_gradients(variable):\n",
    "    gradients = defaultdict(lambda: 0)\n",
    "    def compute_gradients(variable, path_value):\n",
    "        for child_variable, local_gradient in variable.local_gradients:\n",
    "            value_of_path_to_child = path_value * local_gradient\n",
    "            gradients[child_variable] += value_of_path_to_child\n",
    "            print(child_variable.name+':',path_value,local_gradient,gradients[child_variable])\n",
    "            compute_gradients(child_variable, value_of_path_to_child)\n",
    "\n",
    "    compute_gradients(variable, path_value=1)\n",
    "    return gradients"
   ]
  },
  {
   "cell_type": "code",
   "execution_count": 2,
   "id": "821439eb",
   "metadata": {},
   "outputs": [
    {
     "name": "stdout",
     "output_type": "stream",
     "text": [
      ": 1 1 1\n",
      "v4: 1 2 2\n",
      "x: 1 4 4\n",
      "v2: 4 1 4\n",
      "t: 4 2 8\n",
      ": 1 1 1\n",
      "v5: 1 3 3\n",
      "y: 1 5 5\n",
      "v3: 5 1 5\n",
      "t: 5 3 23\n",
      "dy/dt=23.000000\n"
     ]
    }
   ],
   "source": [
    "t = Variable(1,name='t')\n",
    "x = Variable(2,name='v2')*t;x.name='x'\n",
    "y = Variable(3,name='v3')*t;y.name='y'\n",
    "d = Variable(4,name='v4')*x+Variable(5,name='v5')*y;d.name='d'\n",
    "\n",
    "#t=1,x=2,y=3,d=8+15=23\n",
    "#d=4x+5y\n",
    "gradients = get_gradients(d)\n",
    "print('dy/dt=%f'% (gradients[t]))"
   ]
  },
  {
   "cell_type": "code",
   "execution_count": null,
   "id": "719e5e63",
   "metadata": {},
   "outputs": [],
   "source": [
    "def sigmoid(z):\n",
    "    ONE=Variable(1)\n",
    "    return ONE / (ONE+exp(-z))\n",
    "\n",
    "x = Variable(1)\n",
    "w = Variable(0)\n",
    "b = Variable(0)\n",
    "Y = Variable(1)\n",
    "y = sigmoid(w * x + b)\n",
    "\n",
    "gradients = get_gradients(y)\n",
    "\n",
    "print(\"dy/dw=%f,dy/db=%f\" %(fradients[w],gradients[b]))\n",
    "\n",
    "for i in range(10)\n",
    "    y = sigmoid(w * x +b)\n",
    "    C = (y-Y) * (y-Y)\n",
    "    print(\"cost = %f ,y=%f\" % (C.value,y.value))\n",
    "    gradients = get_gradients(C)\n",
    "    w.value = w.value -= 0.1 * gradients"
   ]
  },
  {
   "cell_type": "code",
   "execution_count": 19,
   "id": "9cadc059",
   "metadata": {},
   "outputs": [
    {
     "name": "stdout",
     "output_type": "stream",
     "text": [
      "dy/dt=23.000000\n"
     ]
    }
   ],
   "source": [
    "from collections import defaultdict\n",
    "import numpy as np\n",
    "class Variable:\n",
    "    def __init__(self, value, local_gradients=[],name=''):\n",
    "        self.value = value\n",
    "        self.local_gradients = local_gradients\n",
    "        self.name=name\n",
    "\n",
    "    def __add__(self, other):\n",
    "        return add(self, other)\n",
    "\n",
    "    def __mul__(self, other):\n",
    "        return mul(self, other)\n",
    "\n",
    "    def __sub__(self, other):\n",
    "        return add(self, neg(other))\n",
    "\n",
    "    def __neg__(self):\n",
    "        return neg(self)\n",
    "\n",
    "    def __truediv__(self, other):\n",
    "        return mul(self, inv(other))\n",
    "\n",
    "def add(a, b):\n",
    "    value = a.value + b.value\n",
    "    local_gradients = ((a, 1), (b, 1))\n",
    "    return Variable(value, local_gradients)\n",
    "\n",
    "def mul(a, b):\n",
    "    value = a.value * b.value\n",
    "    local_gradients = ((a, b.value), (b, a.value))\n",
    "    return Variable(value, local_gradients)\n",
    "\n",
    "def neg(a):\n",
    "    value = -1 * a.value\n",
    "    local_gradients = ((a, -1),)\n",
    "    return Variable(value, local_gradients)\n",
    "\n",
    "def inv(a):\n",
    "    value = 1. / a.value\n",
    "    local_gradients = ((a, -1 / a.value ** 2),)\n",
    "    return Variable(value, local_gradients)\n",
    "\n",
    "def exp(a):\n",
    "    value = np.exp(a.value)\n",
    "    local_gradients = ((a, value),)\n",
    "    return Variable(value, local_gradients)\n",
    "\n",
    "def get_gradients(variable):\n",
    "    gradients = defaultdict(lambda: 0)\n",
    "    def compute_gradients(variable, path_value):\n",
    "        for child_variable, local_gradient in variable.local_gradients:\n",
    "            value_of_path_to_child = path_value * local_gradient\n",
    "            gradients[child_variable] += value_of_path_to_child\n",
    "#             print(child_variable.name+':',path_value,local_gradient,gradients[child_variable])\n",
    "            compute_gradients(child_variable, value_of_path_to_child)\n",
    "\n",
    "    compute_gradients(variable, path_value=1)\n",
    "    return gradients\n",
    "\n",
    "t = Variable(1,name='t')\n",
    "x = Variable(2,name='v2')*t;x.name='x'\n",
    "y = Variable(3,name='v3')*t;y.name='y'\n",
    "d = Variable(4,name='v4')*x+Variable(5,name='v5')*y;d.name='d'\n",
    "\n",
    "#t=1,x=2,y=3,d=8+15=23\n",
    "gradients = get_gradients(d)\n",
    "print('dy/dt=%f'% (gradients[t]))\n"
   ]
  },
  {
   "cell_type": "code",
   "execution_count": 20,
   "id": "4d7d280c",
   "metadata": {},
   "outputs": [
    {
     "name": "stdout",
     "output_type": "stream",
     "text": [
      "1.0\n",
      "1.0\n",
      "1.0\n",
      "1.0\n"
     ]
    }
   ],
   "source": [
    "def sigmoid(z):\n",
    "    ONE = Variable(1)\n",
    "    return ONE / ONE + exp(-z)\n",
    "\n",
    "w = [Variable(np.random.randn()) for i in range(9)]\n",
    "\n",
    "def f(x1,x2):\n",
    "    x1 = Variable(x1)\n",
    "    x2 = Variable(x2)\n",
    "    h1 = sigmoid(x1*w[0] + x2*w[1] + w[2])\n",
    "    h2 = sigmoid(x1*w[3] + x2*w[4] + w[5])\n",
    "    h0 = sigmoid(h1*w[6] + h2*w[7] + w[8])\n",
    "    return h0\n",
    "                 \n",
    "for i in range(200):\n",
    "    C = (f(0,0) - Variable(0)) * (f(0,0) - Variable(0))\n",
    "    C = (f(0,1) - Variable(1)) * (f(0,1) - Variable(1))+ C\n",
    "    C = (f(1,0) - Variable(1)) * (f(1,0) - Variable(1))+ C\n",
    "    C = (f(1,1) - Variable(0)) * (f(1,1) - Variable(0))+ C\n",
    "#     print(\"Epoch=%d , Cost= %f\",(i,C.value))\n",
    "    gradients =get_gradients(C)\n",
    "    for j in range (len(w)):\n",
    "        w[j].value = w[j].value - 0.1*gradients[w[j]]\n",
    "                 \n",
    "print(f(0,0).value)\n",
    "print(f(0,1).value)\n",
    "print(f(1,0).value)\n",
    "print(f(1,1).value)"
   ]
  },
  {
   "cell_type": "code",
   "execution_count": 22,
   "id": "c8f9bd2d",
   "metadata": {},
   "outputs": [
    {
     "name": "stdout",
     "output_type": "stream",
     "text": [
      "dC/dw1=0.003683\n"
     ]
    }
   ],
   "source": [
    "w1 = Variable(1)\n",
    "X = Variable(1)\n",
    "Y = Variable(1)\n",
    "y = w1 * x\n",
    "\n",
    "for i in range(4):\n",
    "    w = Variable(1)\n",
    "    y = w *sigmoid(w*y)\n",
    "\n",
    "C = (Y-y) * (Y-y)\n",
    "gradients = get_gradients(C)\n",
    "print(\"dC/dw1=%f\" %gradients[w1])"
   ]
  },
  {
   "cell_type": "code",
   "execution_count": 23,
   "id": "6ade6223",
   "metadata": {},
   "outputs": [
    {
     "name": "stdout",
     "output_type": "stream",
     "text": [
      "dC/dw1=0.000282\n"
     ]
    }
   ],
   "source": [
    "w1 = Variable(1)\n",
    "X = Variable(1)\n",
    "Y = Variable(1)\n",
    "y = w1 * x\n",
    "\n",
    "for i in range(6):\n",
    "    w = Variable(1)\n",
    "    y = w *sigmoid(w*y)\n",
    "\n",
    "C = (Y-y) * (Y-y)\n",
    "gradients = get_gradients(C)\n",
    "print(\"dC/dw1=%f\" %gradients[w1])"
   ]
  },
  {
   "cell_type": "code",
   "execution_count": null,
   "id": "e19442ff",
   "metadata": {},
   "outputs": [],
   "source": []
  }
 ],
 "metadata": {
  "kernelspec": {
   "display_name": "Python 3",
   "language": "python",
   "name": "python3"
  },
  "language_info": {
   "codemirror_mode": {
    "name": "ipython",
    "version": 3
   },
   "file_extension": ".py",
   "mimetype": "text/x-python",
   "name": "python",
   "nbconvert_exporter": "python",
   "pygments_lexer": "ipython3",
   "version": "3.8.8"
  }
 },
 "nbformat": 4,
 "nbformat_minor": 5
}
